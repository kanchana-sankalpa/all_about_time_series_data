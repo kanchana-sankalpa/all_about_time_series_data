{
 "cells": [
  {
   "cell_type": "code",
   "execution_count": 3,
   "metadata": {},
   "outputs": [
    {
     "name": "stdout",
     "output_type": "stream",
     "text": [
      "Files in 'F:\\\\Github\\\\all_about_time_series_data\\\\sensible_sampling_and_iterpolation': ['.ipynb_checkpoints', 'join_two_datasets.ipynb', 'join_two_datasets_sampled.ipynb', 'PCC Sampled_10min.ipynb', 'PCC Sampled_30min.ipynb', 'PCC.ipynb', 'QLD_open_data', 'sampling_10_mins.ipynb', 'sampling_30_mins.ipynb']\n",
      "pearsoncorr2 df2 shape\n",
      "(23, 23)\n"
     ]
    },
    {
     "name": "stderr",
     "output_type": "stream",
     "text": [
      "F:\\ProgramData\\Anaconda3\\lib\\site-packages\\matplotlib\\__init__.py:942: MatplotlibDeprecationWarning: nbagg.transparent is deprecated and ignored. Use figure.facecolor instead.\n",
      "  mplDeprecation)\n",
      "F:\\ProgramData\\Anaconda3\\lib\\site-packages\\matplotlib\\__init__.py:942: MatplotlibDeprecationWarning: nbagg.transparent is deprecated and ignored. Use figure.facecolor instead.\n",
      "  mplDeprecation)\n"
     ]
    },
    {
     "data": {
      "application/vnd.jupyter.widget-view+json": {
       "model_id": "6f2784b8e65f4c71b17c64abb3f6b8f5",
       "version_major": 2,
       "version_minor": 0
      },
      "text/plain": [
       "Canvas(toolbar=Toolbar(toolitems=[('Home', 'Reset original view', 'home', 'home'), ('Back', 'Back to  previous…"
      ]
     },
     "metadata": {},
     "output_type": "display_data"
    },
    {
     "data": {
      "text/plain": [
       "<matplotlib.axes._subplots.AxesSubplot at 0x241db5c39b0>"
      ]
     },
     "execution_count": 3,
     "metadata": {},
     "output_type": "execute_result"
    }
   ],
   "source": [
    "# -*- coding: utf-8 -*-\n",
    "\"\"\"\n",
    "PCC of a dataset \n",
    "\n",
    "Created on Wed Jan  6 12:57:32 2021\n",
    "\n",
    "@author: kanchana\n",
    "\"\"\"\n",
    "\n",
    "\n",
    "import pandas as pd \n",
    "#import missingno \n",
    "import seaborn as sns\n",
    "import matplotlib.pyplot as plt\n",
    "import numpy as np\n",
    "import os\n",
    "\n",
    "cwd = os.getcwd()  # Get the current working directory (cwd)\n",
    "files = os.listdir(cwd)  # Get all the files in that directory\n",
    "print(\"Files in %r: %s\" % (cwd, files))\n",
    "\n",
    "df2 = pd.read_csv(cwd+\"/QLD_open_data/combined_buff_burnett_sampled_10.csv\" ,index_col=False, header=0) \n",
    "\n",
    "del df2['TIMESTAMP']\n",
    "\n",
    "pearsoncorr2 = df2.corr(method='pearson')\n",
    "print('pearsoncorr2 df2 shape')\n",
    "print(pearsoncorr2.shape)\n",
    "\n",
    "\n",
    "fig, ax = plt.subplots(figsize=(25,25))\n",
    "# Heat map for raw data\n",
    "#%matplotlib widget\n",
    "sns.heatmap(pearsoncorr2, \n",
    "            xticklabels=pearsoncorr2.columns,\n",
    "            yticklabels=pearsoncorr2.columns,\n",
    "            cmap='RdBu_r',\n",
    "            linewidths=0.1, annot=True, annot_kws={\"size\":10})"
   ]
  },
  {
   "cell_type": "code",
   "execution_count": null,
   "metadata": {},
   "outputs": [],
   "source": []
  }
 ],
 "metadata": {
  "kernelspec": {
   "display_name": "Python 3",
   "language": "python",
   "name": "python3"
  },
  "language_info": {
   "codemirror_mode": {
    "name": "ipython",
    "version": 3
   },
   "file_extension": ".py",
   "mimetype": "text/x-python",
   "name": "python",
   "nbconvert_exporter": "python",
   "pygments_lexer": "ipython3",
   "version": "3.6.5"
  }
 },
 "nbformat": 4,
 "nbformat_minor": 2
}
