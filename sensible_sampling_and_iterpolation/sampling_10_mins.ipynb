{
 "cells": [
  {
   "cell_type": "code",
   "execution_count": 4,
   "metadata": {},
   "outputs": [
    {
     "name": "stdout",
     "output_type": "stream",
     "text": [
      "Files in 'F:\\\\Github\\\\all_about_time_series_data\\\\sensible_sampling_and_iterpolation': ['.ipynb_checkpoints', 'join_two_datasets.ipynb', 'join_two_datasets_sampled.ipynb', 'PCC Sampled_10min.ipynb', 'PCC Sampled_30min.ipynb', 'PCC.ipynb', 'QLD_open_data', 'sampling_10_mins.ipynb', 'sampling_30_mins.ipynb']\n"
     ]
    },
    {
     "name": "stderr",
     "output_type": "stream",
     "text": [
      "F:\\ProgramData\\Anaconda3\\lib\\site-packages\\matplotlib\\__init__.py:942: MatplotlibDeprecationWarning: nbagg.transparent is deprecated and ignored. Use figure.facecolor instead.\n",
      "  mplDeprecation)\n",
      "F:\\ProgramData\\Anaconda3\\lib\\site-packages\\matplotlib\\__init__.py:942: MatplotlibDeprecationWarning: nbagg.transparent is deprecated and ignored. Use figure.facecolor instead.\n",
      "  mplDeprecation)\n"
     ]
    },
    {
     "data": {
      "application/vnd.jupyter.widget-view+json": {
       "model_id": "67ed8af4aa7c422c93d53c3692182a7c",
       "version_major": 2,
       "version_minor": 0
      },
      "text/plain": [
       "Canvas(toolbar=Toolbar(toolitems=[('Home', 'Reset original view', 'home', 'home'), ('Back', 'Back to  previous…"
      ]
     },
     "metadata": {},
     "output_type": "display_data"
    },
    {
     "name": "stdout",
     "output_type": "stream",
     "text": [
      "baffle-quality.csv\n",
      "                     EXO-TempC  EXO-TurbNTU  EXO-SpCondmScm  EXO-DOPerSat  \\\n",
      "TIMESTAMP                                                                   \n",
      "2019-11-28 04:20:00     28.566         9.31          56.132         87.68   \n",
      "2019-11-28 04:30:00     28.539         9.43          56.247         87.40   \n",
      "2019-11-28 04:40:00     28.497        28.70          56.205         85.97   \n",
      "2019-11-28 04:50:00     28.472        15.37          56.109         85.47   \n",
      "2019-11-28 05:00:00     28.442        32.50          56.086         83.70   \n",
      "2019-11-28 05:10:00     28.439         9.43          56.108         82.92   \n",
      "2019-11-28 05:20:00     28.431        11.76          56.100         84.00   \n",
      "2019-11-28 05:30:00     28.414        10.87          56.144         84.15   \n",
      "2019-11-28 05:40:00     28.413         9.97          56.168         83.07   \n",
      "2019-11-28 05:50:00     28.402         7.49          56.167         82.31   \n",
      "\n",
      "                     EXO-Salpsu  EXO-BatV  EXO-DOmgL  EXO-ChlugL  EXO-pH  \\\n",
      "TIMESTAMP                                                                  \n",
      "2019-11-28 04:20:00       37.19      5.18       5.53       27.90    8.05   \n",
      "2019-11-28 04:30:00       37.27      5.18       5.51       21.44    8.05   \n",
      "2019-11-28 04:40:00       37.24      5.18       5.43       47.78    8.04   \n",
      "2019-11-28 04:50:00       37.17      5.18       5.40       51.41    8.04   \n",
      "2019-11-28 05:00:00       37.16      5.18       5.29       23.51    8.03   \n",
      "2019-11-28 05:10:00       37.17      5.17       5.24       19.66    8.03   \n",
      "2019-11-28 05:20:00       37.17      5.18       5.31       18.37    8.03   \n",
      "2019-11-28 05:30:00       37.20      5.18       5.32       19.76    8.03   \n",
      "2019-11-28 05:40:00       37.22      5.18       5.25       28.01    8.02   \n",
      "2019-11-28 05:50:00       37.22      5.18       5.20       17.13    8.02   \n",
      "\n",
      "                     EXO-pHmV  EXO-Depthm  EXO-ChlRFU  EXO-TurbFNU  \\\n",
      "TIMESTAMP                                                            \n",
      "2019-11-28 04:20:00    -77.77       0.541        6.97         9.31   \n",
      "2019-11-28 04:30:00    -77.64       0.542        5.36         9.43   \n",
      "2019-11-28 04:40:00    -77.40       0.543       11.95        28.70   \n",
      "2019-11-28 04:50:00    -77.04       0.545       12.85        15.37   \n",
      "2019-11-28 05:00:00    -76.80       0.546        5.88        32.50   \n",
      "2019-11-28 05:10:00    -76.66       0.548        4.92         9.43   \n",
      "2019-11-28 05:20:00    -76.35       0.549        4.59        11.76   \n",
      "2019-11-28 05:30:00    -76.51       0.551        4.94        10.87   \n",
      "2019-11-28 05:40:00    -76.21       0.551        7.00         9.97   \n",
      "2019-11-28 05:50:00    -75.70       0.553        4.28         7.49   \n",
      "\n",
      "                     EXO-fDOMRFU  EXO-fDOMQSU  \n",
      "TIMESTAMP                                      \n",
      "2019-11-28 04:20:00         2.86         8.62  \n",
      "2019-11-28 04:30:00         2.92         8.79  \n",
      "2019-11-28 04:40:00         2.95         8.87  \n",
      "2019-11-28 04:50:00         2.99         9.01  \n",
      "2019-11-28 05:00:00         2.91         8.75  \n",
      "2019-11-28 05:10:00         3.09         9.30  \n",
      "2019-11-28 05:20:00         3.06         9.21  \n",
      "2019-11-28 05:30:00         3.18         9.57  \n",
      "2019-11-28 05:40:00         3.14         9.45  \n",
      "2019-11-28 05:50:00         3.21         9.66  \n",
      "finished\n"
     ]
    },
    {
     "name": "stderr",
     "output_type": "stream",
     "text": [
      "F:\\ProgramData\\Anaconda3\\lib\\site-packages\\matplotlib\\__init__.py:942: MatplotlibDeprecationWarning: nbagg.transparent is deprecated and ignored. Use figure.facecolor instead.\n",
      "  mplDeprecation)\n",
      "F:\\ProgramData\\Anaconda3\\lib\\site-packages\\matplotlib\\__init__.py:942: MatplotlibDeprecationWarning: nbagg.transparent is deprecated and ignored. Use figure.facecolor instead.\n",
      "  mplDeprecation)\n"
     ]
    },
    {
     "data": {
      "application/vnd.jupyter.widget-view+json": {
       "model_id": "77f3cd5ee9cd444f9bc075d907bf8bdf",
       "version_major": 2,
       "version_minor": 0
      },
      "text/plain": [
       "Canvas(toolbar=Toolbar(toolitems=[('Home', 'Reset original view', 'home', 'home'), ('Back', 'Back to  previous…"
      ]
     },
     "metadata": {},
     "output_type": "display_data"
    },
    {
     "name": "stdout",
     "output_type": "stream",
     "text": [
      "burnett.csv\n",
      "                     RECORD  Temp_degC  EC_uScm    pH  DO_Sat  DO_mg  \\\n",
      "TIMESTAMP                                                              \n",
      "2019-12-31 00:03:30  108437      27.24  49910.0  7.87    96.6   6.39   \n",
      "2019-12-31 00:33:30  108438      27.24  49860.0  7.89    98.3   6.50   \n",
      "2019-12-31 01:03:30  108439      27.24  49850.0  7.88    97.7   6.46   \n",
      "2019-12-31 01:33:30  108440      27.12  49830.0  7.91    96.3   6.38   \n",
      "2019-12-31 02:03:30  108441      27.14  49620.0  7.88    98.1   6.50   \n",
      "2019-12-31 02:33:30  108442      27.18  49430.0  7.84    97.3   6.45   \n",
      "2019-12-31 03:03:30  108443      27.19  49270.0  7.82    97.6   6.48   \n",
      "2019-12-31 03:33:30  108444      27.19  49080.0  7.84    98.2   6.52   \n",
      "2019-12-31 04:03:30  108445      27.15  48810.0  7.80    98.3   6.54   \n",
      "2019-12-31 04:33:30  108446      27.10  48630.0  7.79    97.8   6.51   \n",
      "\n",
      "                     Turbidity_NTU  Chloraphylla_ugL  \n",
      "TIMESTAMP                                             \n",
      "2019-12-31 00:03:30            5.6               6.2  \n",
      "2019-12-31 00:33:30            4.9               5.5  \n",
      "2019-12-31 01:03:30            5.8               7.2  \n",
      "2019-12-31 01:33:30            6.9               9.6  \n",
      "2019-12-31 02:03:30            6.2               7.5  \n",
      "2019-12-31 02:33:30            6.7               8.6  \n",
      "2019-12-31 03:03:30            6.4               8.9  \n",
      "2019-12-31 03:33:30            6.4               9.0  \n",
      "2019-12-31 04:03:30            6.2               9.1  \n",
      "2019-12-31 04:33:30            6.7              10.0  \n",
      "finished\n"
     ]
    },
    {
     "name": "stderr",
     "output_type": "stream",
     "text": [
      "F:\\ProgramData\\Anaconda3\\lib\\site-packages\\matplotlib\\__init__.py:942: MatplotlibDeprecationWarning: nbagg.transparent is deprecated and ignored. Use figure.facecolor instead.\n",
      "  mplDeprecation)\n",
      "F:\\ProgramData\\Anaconda3\\lib\\site-packages\\matplotlib\\__init__.py:942: MatplotlibDeprecationWarning: nbagg.transparent is deprecated and ignored. Use figure.facecolor instead.\n",
      "  mplDeprecation)\n"
     ]
    },
    {
     "data": {
      "application/vnd.jupyter.widget-view+json": {
       "model_id": "6ebc16f9e90e429eadfe6d7ed9ca0a32",
       "version_major": 2,
       "version_minor": 0
      },
      "text/plain": [
       "Canvas(toolbar=Toolbar(toolitems=[('Home', 'Reset original view', 'home', 'home'), ('Back', 'Back to  previous…"
      ]
     },
     "metadata": {},
     "output_type": "display_data"
    }
   ],
   "source": [
    "# -*- coding: utf-8 -*-\n",
    "\"\"\"\n",
    "Sampling two datasets \n",
    "\n",
    "Created on Wed Jan  6 14:24:54 2021\n",
    "\n",
    "@author: kanchana\n",
    "\"\"\"\n",
    "import matplotlib as mpl\n",
    "import os\n",
    "import pandas as pd\n",
    "import glob\n",
    "import numpy as np\n",
    "import matplotlib.pyplot as plt\n",
    "import matplotlib.dates as mdates\n",
    "from statsmodels.tsa.stattools import grangercausalitytests\n",
    "import seaborn as sns\n",
    "#%matplotlib widget\n",
    "\n",
    "\n",
    "# figure size globally set for matplotlib\n",
    "mpl.rcParams['figure.figsize'] = (20, 20)\n",
    "mpl.rcParams['axes.grid'] = False\n",
    "\n",
    "\n",
    "cwd = os.getcwd()  # Get the current working directory (cwd)\n",
    "files = os.listdir(cwd)  # Get all the files in that directory\n",
    "print(\"Files in %r: %s\" % (cwd, files))\n",
    "\n",
    "path = cwd+'/QLD_open_data/selected' # use your path\n",
    "\n",
    "all_files = glob.glob(path + \"/*.csv\")\n",
    "\n",
    "fig = plt.figure()\n",
    "\n",
    "num_lines = 6\n",
    "pal1 = sns.color_palette('rainbow', num_lines)\n",
    "\n",
    "for filename in all_files:\n",
    "    df = pd.read_csv(filename, index_col=False, header=0)\n",
    "    #print (filename)\n",
    "    filename_w_ext = os.path.basename(filename)\n",
    "    print(filename_w_ext)\n",
    "    exact_filename, file_extension = os.path.splitext(filename_w_ext)\n",
    "    \n",
    "    df['TIMESTAMP'] = pd.to_datetime(df['TIMESTAMP'],  format=\"%Y-%m-%d %H:%M:%S\" , errors='coerce')\n",
    "    df = df.set_index('TIMESTAMP')\n",
    "    \n",
    "    print(df.head(10))\n",
    "    \n",
    "    df = df.rolling(10, min_periods=1).median().round(0)\n",
    "    sampled = df.resample('10Min').median()\n",
    "    sampled= sampled.interpolate(method='cubic')\n",
    "    sampled.columns = ['Samp_'+str(col)  for col in sampled.columns]\n",
    "    sampled.to_csv(cwd+'/QLD_open_data/sampled_10/'+filename_w_ext)\n",
    "    print('finished')\n",
    "    \n",
    "    ax = df.plot()\n",
    "    #ax.set_prop_cycle(sns.color_palette(\"muted\"),num_lines)\n",
    "    sampled.plot(ax=ax)\n",
    "    plt.legend(loc='best',prop={'size': 6}) \n",
    "    \n",
    "    plt.show() \n",
    "    \n",
    "    \n"
   ]
  },
  {
   "cell_type": "code",
   "execution_count": null,
   "metadata": {},
   "outputs": [],
   "source": []
  },
  {
   "cell_type": "code",
   "execution_count": null,
   "metadata": {},
   "outputs": [],
   "source": []
  }
 ],
 "metadata": {
  "kernelspec": {
   "display_name": "Python 3",
   "language": "python",
   "name": "python3"
  },
  "language_info": {
   "codemirror_mode": {
    "name": "ipython",
    "version": 3
   },
   "file_extension": ".py",
   "mimetype": "text/x-python",
   "name": "python",
   "nbconvert_exporter": "python",
   "pygments_lexer": "ipython3",
   "version": "3.6.5"
  }
 },
 "nbformat": 4,
 "nbformat_minor": 2
}
